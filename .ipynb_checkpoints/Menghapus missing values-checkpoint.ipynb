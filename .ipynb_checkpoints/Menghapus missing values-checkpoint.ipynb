{
 "cells": [
  {
   "cell_type": "code",
   "execution_count": 35,
   "metadata": {},
   "outputs": [
    {
     "name": "stdout",
     "output_type": "stream",
     "text": [
      "1.1.3\n"
     ]
    }
   ],
   "source": [
    "import pandas as pd\n",
    "\n",
    "print(pd.__version__)"
   ]
  },
  {
   "cell_type": "code",
   "execution_count": 36,
   "metadata": {},
   "outputs": [
    {
     "data": {
      "text/html": [
       "<div>\n",
       "<style scoped>\n",
       "    .dataframe tbody tr th:only-of-type {\n",
       "        vertical-align: middle;\n",
       "    }\n",
       "\n",
       "    .dataframe tbody tr th {\n",
       "        vertical-align: top;\n",
       "    }\n",
       "\n",
       "    .dataframe thead th {\n",
       "        text-align: right;\n",
       "    }\n",
       "</style>\n",
       "<table border=\"1\" class=\"dataframe\">\n",
       "  <thead>\n",
       "    <tr style=\"text-align: right;\">\n",
       "      <th></th>\n",
       "      <th>index</th>\n",
       "      <th>A</th>\n",
       "      <th>B</th>\n",
       "      <th>C</th>\n",
       "      <th>D</th>\n",
       "    </tr>\n",
       "  </thead>\n",
       "  <tbody>\n",
       "    <tr>\n",
       "      <th>0</th>\n",
       "      <td>zYW4lFGV1m</td>\n",
       "      <td>1.047128</td>\n",
       "      <td>1.893403</td>\n",
       "      <td>NaN</td>\n",
       "      <td>NaN</td>\n",
       "    </tr>\n",
       "    <tr>\n",
       "      <th>1</th>\n",
       "      <td>uM4OXi11Fv</td>\n",
       "      <td>-0.182275</td>\n",
       "      <td>0.406272</td>\n",
       "      <td>1.724233</td>\n",
       "      <td>-1.428518</td>\n",
       "    </tr>\n",
       "    <tr>\n",
       "      <th>2</th>\n",
       "      <td>QIfuXii8C3</td>\n",
       "      <td>0.314445</td>\n",
       "      <td>-2.178033</td>\n",
       "      <td>0.832925</td>\n",
       "      <td>-0.423326</td>\n",
       "    </tr>\n",
       "    <tr>\n",
       "      <th>3</th>\n",
       "      <td>BnixzCpzLc</td>\n",
       "      <td>0.097979</td>\n",
       "      <td>NaN</td>\n",
       "      <td>0.251503</td>\n",
       "      <td>0.877556</td>\n",
       "    </tr>\n",
       "    <tr>\n",
       "      <th>4</th>\n",
       "      <td>LiSHA9iqOh</td>\n",
       "      <td>0.117403</td>\n",
       "      <td>-0.955335</td>\n",
       "      <td>0.200036</td>\n",
       "      <td>-0.125877</td>\n",
       "    </tr>\n",
       "  </tbody>\n",
       "</table>\n",
       "</div>"
      ],
      "text/plain": [
       "        index         A         B         C         D\n",
       "0  zYW4lFGV1m  1.047128  1.893403       NaN       NaN\n",
       "1  uM4OXi11Fv -0.182275  0.406272  1.724233 -1.428518\n",
       "2  QIfuXii8C3  0.314445 -2.178033  0.832925 -0.423326\n",
       "3  BnixzCpzLc  0.097979       NaN  0.251503  0.877556\n",
       "4  LiSHA9iqOh  0.117403 -0.955335  0.200036 -0.125877"
      ]
     },
     "execution_count": 36,
     "metadata": {},
     "output_type": "execute_result"
    }
   ],
   "source": [
    "df = pd.util.testing.makeMissingDataframe().reset_index()\n",
    "df.head()\n",
    "# membuat data frame yang terdapat missing value dengan menggunakan\n",
    "#pd.util.testing.makeMissingDataframe() "
   ]
  },
  {
   "cell_type": "code",
   "execution_count": 37,
   "metadata": {},
   "outputs": [
    {
     "data": {
      "text/plain": [
       "<bound method NDFrame.head of              Z         A         B         C         D\n",
       "0   zYW4lFGV1m  1.047128  1.893403       NaN       NaN\n",
       "1   uM4OXi11Fv -0.182275  0.406272  1.724233 -1.428518\n",
       "2   QIfuXii8C3  0.314445 -2.178033  0.832925 -0.423326\n",
       "3   BnixzCpzLc  0.097979       NaN  0.251503  0.877556\n",
       "4   LiSHA9iqOh  0.117403 -0.955335  0.200036 -0.125877\n",
       "5   sPlz8wp6P8  0.309832  0.045603  0.068178 -0.025586\n",
       "6   lEnNhaNb76  1.511596  0.494243 -1.375530  1.577448\n",
       "7   2A1fjEXWFN -0.303567 -0.123791 -0.073770       NaN\n",
       "8   wy3GoAdoKs -1.735946 -0.440153  1.291635  1.378536\n",
       "9   hM8j5q4SvT -0.860594  0.436715       NaN  0.645654\n",
       "10  UgEshpj1NB  0.594688  0.466999  0.084893  2.072179\n",
       "11  7gvFyHTQpW -0.130401  0.678566 -1.673494 -1.601282\n",
       "12  VbYcOCkSa9  1.414418  1.025220 -1.431809 -0.247711\n",
       "13  SYhvW4GDep  2.299361  1.778316 -0.950808  1.284578\n",
       "14  E6YCjt2dMD  0.016006 -0.323594 -0.115191 -1.480574\n",
       "15  STNVFjvEaG       NaN  0.639689 -0.044086  0.386133\n",
       "16  DYi6oyePc5  0.452798  0.022019  1.408131  1.392371\n",
       "17  2k3JS8QU4r  0.646442  0.576460 -1.404988 -1.365415\n",
       "18  8gx3oSpm1P -1.101221  0.127566  0.920049  1.094460\n",
       "19  SgPcQv4N5y -0.275592  2.390324 -0.497156  1.018350\n",
       "20  rNotypjOCF -0.219483       NaN -0.305486 -1.728401\n",
       "21  ISw3kEa8Hf  0.698133 -0.771909  1.061569       NaN\n",
       "22  O5dBHStSYj       NaN -0.455200  1.765146 -1.087445\n",
       "23  pqqDGev8Jn  0.737710  0.334662 -0.106715  1.051808\n",
       "24  gxdsX1BN1z -0.045249 -1.115860  0.760881  0.378571\n",
       "25  VqsXf6EynO -0.360455       NaN -0.907679       NaN\n",
       "26  7LzzZde350 -0.134222 -1.350573 -0.152427 -0.998561\n",
       "27  oHKYZj12GI  0.750426 -0.644516 -0.069574       NaN\n",
       "28  mpC5EYw7u5  0.256337  0.345440 -1.685333  0.472852\n",
       "29  KNg8vd4MGa  1.724033  0.554259  1.364469  0.116084>"
      ]
     },
     "execution_count": 37,
     "metadata": {},
     "output_type": "execute_result"
    }
   ],
   "source": [
    "df = df.rename(columns={'index':'Z'}) \n",
    "df.head\n",
    "#menganti nama kolom index menjadi Z"
   ]
  },
  {
   "cell_type": "code",
   "execution_count": 38,
   "metadata": {},
   "outputs": [],
   "source": [
    "df_backup = df.copy(deep=True) \n",
    "#mengcopy data dari tabel di atas"
   ]
  },
  {
   "cell_type": "code",
   "execution_count": 39,
   "metadata": {},
   "outputs": [
    {
     "data": {
      "text/html": [
       "<div>\n",
       "<style scoped>\n",
       "    .dataframe tbody tr th:only-of-type {\n",
       "        vertical-align: middle;\n",
       "    }\n",
       "\n",
       "    .dataframe tbody tr th {\n",
       "        vertical-align: top;\n",
       "    }\n",
       "\n",
       "    .dataframe thead th {\n",
       "        text-align: right;\n",
       "    }\n",
       "</style>\n",
       "<table border=\"1\" class=\"dataframe\">\n",
       "  <thead>\n",
       "    <tr style=\"text-align: right;\">\n",
       "      <th></th>\n",
       "      <th>Z</th>\n",
       "    </tr>\n",
       "  </thead>\n",
       "  <tbody>\n",
       "    <tr>\n",
       "      <th>0</th>\n",
       "      <td>zYW4lFGV1m</td>\n",
       "    </tr>\n",
       "    <tr>\n",
       "      <th>1</th>\n",
       "      <td>uM4OXi11Fv</td>\n",
       "    </tr>\n",
       "    <tr>\n",
       "      <th>2</th>\n",
       "      <td>QIfuXii8C3</td>\n",
       "    </tr>\n",
       "    <tr>\n",
       "      <th>3</th>\n",
       "      <td>BnixzCpzLc</td>\n",
       "    </tr>\n",
       "    <tr>\n",
       "      <th>4</th>\n",
       "      <td>LiSHA9iqOh</td>\n",
       "    </tr>\n",
       "  </tbody>\n",
       "</table>\n",
       "</div>"
      ],
      "text/plain": [
       "            Z\n",
       "0  zYW4lFGV1m\n",
       "1  uM4OXi11Fv\n",
       "2  QIfuXii8C3\n",
       "3  BnixzCpzLc\n",
       "4  LiSHA9iqOh"
      ]
     },
     "execution_count": 39,
     "metadata": {},
     "output_type": "execute_result"
    }
   ],
   "source": [
    "df = df.dropna(axis='columns')\n",
    "df.head()\n",
    "#menghapus kolom yang terdapat missing value (Nan)"
   ]
  },
  {
   "cell_type": "code",
   "execution_count": 40,
   "metadata": {},
   "outputs": [
    {
     "data": {
      "text/plain": [
       "<bound method NDFrame.head of              Z         A         B         C         D\n",
       "1   uM4OXi11Fv -0.182275  0.406272  1.724233 -1.428518\n",
       "2   QIfuXii8C3  0.314445 -2.178033  0.832925 -0.423326\n",
       "4   LiSHA9iqOh  0.117403 -0.955335  0.200036 -0.125877\n",
       "5   sPlz8wp6P8  0.309832  0.045603  0.068178 -0.025586\n",
       "6   lEnNhaNb76  1.511596  0.494243 -1.375530  1.577448\n",
       "8   wy3GoAdoKs -1.735946 -0.440153  1.291635  1.378536\n",
       "10  UgEshpj1NB  0.594688  0.466999  0.084893  2.072179\n",
       "11  7gvFyHTQpW -0.130401  0.678566 -1.673494 -1.601282\n",
       "12  VbYcOCkSa9  1.414418  1.025220 -1.431809 -0.247711\n",
       "13  SYhvW4GDep  2.299361  1.778316 -0.950808  1.284578\n",
       "14  E6YCjt2dMD  0.016006 -0.323594 -0.115191 -1.480574\n",
       "16  DYi6oyePc5  0.452798  0.022019  1.408131  1.392371\n",
       "17  2k3JS8QU4r  0.646442  0.576460 -1.404988 -1.365415\n",
       "18  8gx3oSpm1P -1.101221  0.127566  0.920049  1.094460\n",
       "19  SgPcQv4N5y -0.275592  2.390324 -0.497156  1.018350\n",
       "23  pqqDGev8Jn  0.737710  0.334662 -0.106715  1.051808\n",
       "24  gxdsX1BN1z -0.045249 -1.115860  0.760881  0.378571\n",
       "26  7LzzZde350 -0.134222 -1.350573 -0.152427 -0.998561\n",
       "28  mpC5EYw7u5  0.256337  0.345440 -1.685333  0.472852\n",
       "29  KNg8vd4MGa  1.724033  0.554259  1.364469  0.116084>"
      ]
     },
     "execution_count": 40,
     "metadata": {},
     "output_type": "execute_result"
    }
   ],
   "source": [
    "df = df_backup.copy(deep=True)\n",
    "df = df.dropna(axis='rows')\n",
    "df.head\n",
    "#menghapus baris yang terdapat missing value"
   ]
  },
  {
   "cell_type": "code",
   "execution_count": 41,
   "metadata": {},
   "outputs": [
    {
     "data": {
      "text/plain": [
       "Z    0.000000\n",
       "A    0.066667\n",
       "B    0.100000\n",
       "C    0.066667\n",
       "D    0.166667\n",
       "dtype: float64"
      ]
     },
     "execution_count": 41,
     "metadata": {},
     "output_type": "execute_result"
    }
   ],
   "source": [
    "df = df_backup.copy(deep=True)\n",
    "df.isna().mean()\n",
    "#untuk menghitung persentase Missing Values"
   ]
  },
  {
   "cell_type": "code",
   "execution_count": 44,
   "metadata": {},
   "outputs": [
    {
     "data": {
      "text/html": [
       "<div>\n",
       "<style scoped>\n",
       "    .dataframe tbody tr th:only-of-type {\n",
       "        vertical-align: middle;\n",
       "    }\n",
       "\n",
       "    .dataframe tbody tr th {\n",
       "        vertical-align: top;\n",
       "    }\n",
       "\n",
       "    .dataframe thead th {\n",
       "        text-align: right;\n",
       "    }\n",
       "</style>\n",
       "<table border=\"1\" class=\"dataframe\">\n",
       "  <thead>\n",
       "    <tr style=\"text-align: right;\">\n",
       "      <th></th>\n",
       "      <th>Z</th>\n",
       "      <th>A</th>\n",
       "      <th>B</th>\n",
       "      <th>C</th>\n",
       "    </tr>\n",
       "  </thead>\n",
       "  <tbody>\n",
       "    <tr>\n",
       "      <th>0</th>\n",
       "      <td>zYW4lFGV1m</td>\n",
       "      <td>1.047128</td>\n",
       "      <td>1.893403</td>\n",
       "      <td>NaN</td>\n",
       "    </tr>\n",
       "    <tr>\n",
       "      <th>1</th>\n",
       "      <td>uM4OXi11Fv</td>\n",
       "      <td>-0.182275</td>\n",
       "      <td>0.406272</td>\n",
       "      <td>1.724233</td>\n",
       "    </tr>\n",
       "    <tr>\n",
       "      <th>2</th>\n",
       "      <td>QIfuXii8C3</td>\n",
       "      <td>0.314445</td>\n",
       "      <td>-2.178033</td>\n",
       "      <td>0.832925</td>\n",
       "    </tr>\n",
       "    <tr>\n",
       "      <th>3</th>\n",
       "      <td>BnixzCpzLc</td>\n",
       "      <td>0.097979</td>\n",
       "      <td>NaN</td>\n",
       "      <td>0.251503</td>\n",
       "    </tr>\n",
       "    <tr>\n",
       "      <th>4</th>\n",
       "      <td>LiSHA9iqOh</td>\n",
       "      <td>0.117403</td>\n",
       "      <td>-0.955335</td>\n",
       "      <td>0.200036</td>\n",
       "    </tr>\n",
       "  </tbody>\n",
       "</table>\n",
       "</div>"
      ],
      "text/plain": [
       "            Z         A         B         C\n",
       "0  zYW4lFGV1m  1.047128  1.893403       NaN\n",
       "1  uM4OXi11Fv -0.182275  0.406272  1.724233\n",
       "2  QIfuXii8C3  0.314445 -2.178033  0.832925\n",
       "3  BnixzCpzLc  0.097979       NaN  0.251503\n",
       "4  LiSHA9iqOh  0.117403 -0.955335  0.200036"
      ]
     },
     "execution_count": 44,
     "metadata": {},
     "output_type": "execute_result"
    }
   ],
   "source": [
    "treshold = len(df) * 0.9\n",
    "df = df.dropna(thresh=treshold, axis='columns')\n",
    "df.head()\n",
    "#menghapus kolom yang mengandung missing values berdasaran threshold"
   ]
  },
  {
   "cell_type": "code",
   "execution_count": null,
   "metadata": {},
   "outputs": [],
   "source": []
  },
  {
   "cell_type": "code",
   "execution_count": null,
   "metadata": {},
   "outputs": [],
   "source": []
  }
 ],
 "metadata": {
  "kernelspec": {
   "display_name": "Python 3",
   "language": "python",
   "name": "python3"
  },
  "language_info": {
   "codemirror_mode": {
    "name": "ipython",
    "version": 3
   },
   "file_extension": ".py",
   "mimetype": "text/x-python",
   "name": "python",
   "nbconvert_exporter": "python",
   "pygments_lexer": "ipython3",
   "version": "3.8.5"
  }
 },
 "nbformat": 4,
 "nbformat_minor": 4
}
