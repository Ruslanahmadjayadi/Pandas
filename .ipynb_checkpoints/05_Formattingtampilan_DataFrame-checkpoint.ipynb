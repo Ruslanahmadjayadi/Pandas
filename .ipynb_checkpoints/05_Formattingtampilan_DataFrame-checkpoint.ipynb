{
 "cells": [
  {
   "cell_type": "markdown",
   "metadata": {},
   "source": [
    "# Formatting Tampilan Pada Data Frame"
   ]
  },
  {
   "cell_type": "markdown",
   "metadata": {},
   "source": [
    "## Import Modules"
   ]
  },
  {
   "cell_type": "code",
   "execution_count": 15,
   "metadata": {},
   "outputs": [
    {
     "name": "stdout",
     "output_type": "stream",
     "text": [
      "1.1.3\n",
      "1.19.2\n"
     ]
    }
   ],
   "source": [
    "import pandas as pd \n",
    "import numpy as np \n",
    "\n",
    "print(pd.__version__) \n",
    "print(np.__version__) \n"
   ]
  },
  {
   "cell_type": "markdown",
   "metadata": {},
   "source": [
    "## Mempersiapkan Data Frame"
   ]
  },
  {
   "cell_type": "code",
   "execution_count": 16,
   "metadata": {},
   "outputs": [
    {
     "data": {
      "text/html": [
       "<div>\n",
       "<style scoped>\n",
       "    .dataframe tbody tr th:only-of-type {\n",
       "        vertical-align: middle;\n",
       "    }\n",
       "\n",
       "    .dataframe tbody tr th {\n",
       "        vertical-align: top;\n",
       "    }\n",
       "\n",
       "    .dataframe thead th {\n",
       "        text-align: right;\n",
       "    }\n",
       "</style>\n",
       "<table border=\"1\" class=\"dataframe\">\n",
       "  <thead>\n",
       "    <tr style=\"text-align: right;\">\n",
       "      <th></th>\n",
       "      <th>omset</th>\n",
       "      <th>operasional</th>\n",
       "    </tr>\n",
       "  </thead>\n",
       "  <tbody>\n",
       "    <tr>\n",
       "      <th>0</th>\n",
       "      <td>9</td>\n",
       "      <td>2</td>\n",
       "    </tr>\n",
       "    <tr>\n",
       "      <th>1</th>\n",
       "      <td>18</td>\n",
       "      <td>19</td>\n",
       "    </tr>\n",
       "    <tr>\n",
       "      <th>2</th>\n",
       "      <td>17</td>\n",
       "      <td>8</td>\n",
       "    </tr>\n",
       "    <tr>\n",
       "      <th>3</th>\n",
       "      <td>5</td>\n",
       "      <td>8</td>\n",
       "    </tr>\n",
       "    <tr>\n",
       "      <th>4</th>\n",
       "      <td>8</td>\n",
       "      <td>15</td>\n",
       "    </tr>\n",
       "  </tbody>\n",
       "</table>\n",
       "</div>"
      ],
      "text/plain": [
       "   omset  operasional\n",
       "0      9            2\n",
       "1     18           19\n",
       "2     17            8\n",
       "3      5            8\n",
       "4      8           15"
      ]
     },
     "execution_count": 16,
     "metadata": {},
     "output_type": "execute_result"
    }
   ],
   "source": [
    "n_rows = 5\n",
    "n_cols = 2\n",
    "cols = ['omset', 'operasional']\n",
    "\n",
    "df = pd.DataFrame(np.random.randint(1, 20, size=(n_rows, n_cols)), \n",
    "                  columns=cols)\n",
    "df"
   ]
  },
  {
   "cell_type": "markdown",
   "metadata": {},
   "source": [
    "- mengkalikan kolom 'omset' dan 'operasional'"
   ]
  },
  {
   "cell_type": "code",
   "execution_count": 17,
   "metadata": {},
   "outputs": [
    {
     "data": {
      "text/html": [
       "<div>\n",
       "<style scoped>\n",
       "    .dataframe tbody tr th:only-of-type {\n",
       "        vertical-align: middle;\n",
       "    }\n",
       "\n",
       "    .dataframe tbody tr th {\n",
       "        vertical-align: top;\n",
       "    }\n",
       "\n",
       "    .dataframe thead th {\n",
       "        text-align: right;\n",
       "    }\n",
       "</style>\n",
       "<table border=\"1\" class=\"dataframe\">\n",
       "  <thead>\n",
       "    <tr style=\"text-align: right;\">\n",
       "      <th></th>\n",
       "      <th>omset</th>\n",
       "      <th>operasional</th>\n",
       "    </tr>\n",
       "  </thead>\n",
       "  <tbody>\n",
       "    <tr>\n",
       "      <th>0</th>\n",
       "      <td>900000</td>\n",
       "      <td>20000</td>\n",
       "    </tr>\n",
       "    <tr>\n",
       "      <th>1</th>\n",
       "      <td>1800000</td>\n",
       "      <td>190000</td>\n",
       "    </tr>\n",
       "    <tr>\n",
       "      <th>2</th>\n",
       "      <td>1700000</td>\n",
       "      <td>80000</td>\n",
       "    </tr>\n",
       "    <tr>\n",
       "      <th>3</th>\n",
       "      <td>500000</td>\n",
       "      <td>80000</td>\n",
       "    </tr>\n",
       "    <tr>\n",
       "      <th>4</th>\n",
       "      <td>800000</td>\n",
       "      <td>150000</td>\n",
       "    </tr>\n",
       "  </tbody>\n",
       "</table>\n",
       "</div>"
      ],
      "text/plain": [
       "     omset  operasional\n",
       "0   900000        20000\n",
       "1  1800000       190000\n",
       "2  1700000        80000\n",
       "3   500000        80000\n",
       "4   800000       150000"
      ]
     },
     "execution_count": 17,
     "metadata": {},
     "output_type": "execute_result"
    }
   ],
   "source": [
    "df['omset'] = df['omset'] * 100_000\n",
    "df['operasional'] = df['operasional'] * 10_000\n",
    "df"
   ]
  },
  {
   "cell_type": "markdown",
   "metadata": {},
   "source": [
    "- membentuk sebuah kolom baru yaitu kolom tanggal"
   ]
  },
  {
   "cell_type": "code",
   "execution_count": 18,
   "metadata": {},
   "outputs": [
    {
     "data": {
      "text/html": [
       "<div>\n",
       "<style scoped>\n",
       "    .dataframe tbody tr th:only-of-type {\n",
       "        vertical-align: middle;\n",
       "    }\n",
       "\n",
       "    .dataframe tbody tr th {\n",
       "        vertical-align: top;\n",
       "    }\n",
       "\n",
       "    .dataframe thead th {\n",
       "        text-align: right;\n",
       "    }\n",
       "</style>\n",
       "<table border=\"1\" class=\"dataframe\">\n",
       "  <thead>\n",
       "    <tr style=\"text-align: right;\">\n",
       "      <th></th>\n",
       "      <th>tanggal</th>\n",
       "      <th>omset</th>\n",
       "      <th>operasional</th>\n",
       "    </tr>\n",
       "  </thead>\n",
       "  <tbody>\n",
       "    <tr>\n",
       "      <th>0</th>\n",
       "      <td>2000-01-01</td>\n",
       "      <td>900000</td>\n",
       "      <td>20000</td>\n",
       "    </tr>\n",
       "    <tr>\n",
       "      <th>1</th>\n",
       "      <td>2000-01-02</td>\n",
       "      <td>1800000</td>\n",
       "      <td>190000</td>\n",
       "    </tr>\n",
       "    <tr>\n",
       "      <th>2</th>\n",
       "      <td>2000-01-03</td>\n",
       "      <td>1700000</td>\n",
       "      <td>80000</td>\n",
       "    </tr>\n",
       "    <tr>\n",
       "      <th>3</th>\n",
       "      <td>2000-01-04</td>\n",
       "      <td>500000</td>\n",
       "      <td>80000</td>\n",
       "    </tr>\n",
       "    <tr>\n",
       "      <th>4</th>\n",
       "      <td>2000-01-05</td>\n",
       "      <td>800000</td>\n",
       "      <td>150000</td>\n",
       "    </tr>\n",
       "  </tbody>\n",
       "</table>\n",
       "</div>"
      ],
      "text/plain": [
       "     tanggal    omset  operasional\n",
       "0 2000-01-01   900000        20000\n",
       "1 2000-01-02  1800000       190000\n",
       "2 2000-01-03  1700000        80000\n",
       "3 2000-01-04   500000        80000\n",
       "4 2000-01-05   800000       150000"
      ]
     },
     "execution_count": 18,
     "metadata": {},
     "output_type": "execute_result"
    }
   ],
   "source": [
    "df.index = pd.util.testing.makeDateIndex(n_rows, freq='D')\n",
    "df = df.reset_index()\n",
    "df = df.rename(columns={'index':'tanggal'})\n",
    "df"
   ]
  },
  {
   "cell_type": "markdown",
   "metadata": {},
   "source": [
    "## Melakukan Formatting tampilan Data Frame"
   ]
  },
  {
   "cell_type": "markdown",
   "metadata": {},
   "source": [
    "- mengubah tampilan dalam tabel dalam kolom omset dan operasional ditambahkan Rp sedangkan untuk tanggal mengubah formatnya"
   ]
  },
  {
   "cell_type": "code",
   "execution_count": 19,
   "metadata": {},
   "outputs": [
    {
     "data": {
      "text/html": [
       "<style  type=\"text/css\" >\n",
       "</style><table id=\"T_f2f7effc_2c24_11ec_8ce8_089798be9507\" ><thead>    <tr>        <th class=\"blank level0\" ></th>        <th class=\"col_heading level0 col0\" >tanggal</th>        <th class=\"col_heading level0 col1\" >omset</th>        <th class=\"col_heading level0 col2\" >operasional</th>    </tr></thead><tbody>\n",
       "                <tr>\n",
       "                        <th id=\"T_f2f7effc_2c24_11ec_8ce8_089798be9507level0_row0\" class=\"row_heading level0 row0\" >0</th>\n",
       "                        <td id=\"T_f2f7effc_2c24_11ec_8ce8_089798be9507row0_col0\" class=\"data row0 col0\" >01/01/00</td>\n",
       "                        <td id=\"T_f2f7effc_2c24_11ec_8ce8_089798be9507row0_col1\" class=\"data row0 col1\" >Rp 900000.00</td>\n",
       "                        <td id=\"T_f2f7effc_2c24_11ec_8ce8_089798be9507row0_col2\" class=\"data row0 col2\" >Rp 20000.00</td>\n",
       "            </tr>\n",
       "            <tr>\n",
       "                        <th id=\"T_f2f7effc_2c24_11ec_8ce8_089798be9507level0_row1\" class=\"row_heading level0 row1\" >1</th>\n",
       "                        <td id=\"T_f2f7effc_2c24_11ec_8ce8_089798be9507row1_col0\" class=\"data row1 col0\" >02/01/00</td>\n",
       "                        <td id=\"T_f2f7effc_2c24_11ec_8ce8_089798be9507row1_col1\" class=\"data row1 col1\" >Rp 1800000.00</td>\n",
       "                        <td id=\"T_f2f7effc_2c24_11ec_8ce8_089798be9507row1_col2\" class=\"data row1 col2\" >Rp 190000.00</td>\n",
       "            </tr>\n",
       "            <tr>\n",
       "                        <th id=\"T_f2f7effc_2c24_11ec_8ce8_089798be9507level0_row2\" class=\"row_heading level0 row2\" >2</th>\n",
       "                        <td id=\"T_f2f7effc_2c24_11ec_8ce8_089798be9507row2_col0\" class=\"data row2 col0\" >03/01/00</td>\n",
       "                        <td id=\"T_f2f7effc_2c24_11ec_8ce8_089798be9507row2_col1\" class=\"data row2 col1\" >Rp 1700000.00</td>\n",
       "                        <td id=\"T_f2f7effc_2c24_11ec_8ce8_089798be9507row2_col2\" class=\"data row2 col2\" >Rp 80000.00</td>\n",
       "            </tr>\n",
       "            <tr>\n",
       "                        <th id=\"T_f2f7effc_2c24_11ec_8ce8_089798be9507level0_row3\" class=\"row_heading level0 row3\" >3</th>\n",
       "                        <td id=\"T_f2f7effc_2c24_11ec_8ce8_089798be9507row3_col0\" class=\"data row3 col0\" >04/01/00</td>\n",
       "                        <td id=\"T_f2f7effc_2c24_11ec_8ce8_089798be9507row3_col1\" class=\"data row3 col1\" >Rp 500000.00</td>\n",
       "                        <td id=\"T_f2f7effc_2c24_11ec_8ce8_089798be9507row3_col2\" class=\"data row3 col2\" >Rp 80000.00</td>\n",
       "            </tr>\n",
       "            <tr>\n",
       "                        <th id=\"T_f2f7effc_2c24_11ec_8ce8_089798be9507level0_row4\" class=\"row_heading level0 row4\" >4</th>\n",
       "                        <td id=\"T_f2f7effc_2c24_11ec_8ce8_089798be9507row4_col0\" class=\"data row4 col0\" >05/01/00</td>\n",
       "                        <td id=\"T_f2f7effc_2c24_11ec_8ce8_089798be9507row4_col1\" class=\"data row4 col1\" >Rp 800000.00</td>\n",
       "                        <td id=\"T_f2f7effc_2c24_11ec_8ce8_089798be9507row4_col2\" class=\"data row4 col2\" >Rp 150000.00</td>\n",
       "            </tr>\n",
       "    </tbody></table>"
      ],
      "text/plain": [
       "<pandas.io.formats.style.Styler at 0x1c902a4c700>"
      ]
     },
     "execution_count": 19,
     "metadata": {},
     "output_type": "execute_result"
    }
   ],
   "source": [
    "formatku = {'tanggal':'{:%d/%m/%y}', \n",
    "            'operasional':'Rp {:.2f}',\n",
    "            'omset':'Rp {:.2f}'}\n",
    "\n",
    "laporan = df.style.format(formatku)\n",
    "laporan"
   ]
  },
  {
   "cell_type": "markdown",
   "metadata": {},
   "source": [
    "- untuk mengetahui tipe data laporan"
   ]
  },
  {
   "cell_type": "code",
   "execution_count": 20,
   "metadata": {},
   "outputs": [
    {
     "data": {
      "text/plain": [
       "pandas.io.formats.style.Styler"
      ]
     },
     "execution_count": 20,
     "metadata": {},
     "output_type": "execute_result"
    }
   ],
   "source": [
    "type(laporan)"
   ]
  },
  {
   "cell_type": "markdown",
   "metadata": {},
   "source": [
    "- untuk menyembunyikan index"
   ]
  },
  {
   "cell_type": "code",
   "execution_count": 21,
   "metadata": {},
   "outputs": [
    {
     "data": {
      "text/html": [
       "<style  type=\"text/css\" >\n",
       "</style><table id=\"T_f3f6c79d_2c24_11ec_8182_089798be9507\" ><thead>    <tr>        <th class=\"col_heading level0 col0\" >tanggal</th>        <th class=\"col_heading level0 col1\" >omset</th>        <th class=\"col_heading level0 col2\" >operasional</th>    </tr></thead><tbody>\n",
       "                <tr>\n",
       "                                <td id=\"T_f3f6c79d_2c24_11ec_8182_089798be9507row0_col0\" class=\"data row0 col0\" >01/01/00</td>\n",
       "                        <td id=\"T_f3f6c79d_2c24_11ec_8182_089798be9507row0_col1\" class=\"data row0 col1\" >Rp 900000.00</td>\n",
       "                        <td id=\"T_f3f6c79d_2c24_11ec_8182_089798be9507row0_col2\" class=\"data row0 col2\" >Rp 20000.00</td>\n",
       "            </tr>\n",
       "            <tr>\n",
       "                                <td id=\"T_f3f6c79d_2c24_11ec_8182_089798be9507row1_col0\" class=\"data row1 col0\" >02/01/00</td>\n",
       "                        <td id=\"T_f3f6c79d_2c24_11ec_8182_089798be9507row1_col1\" class=\"data row1 col1\" >Rp 1800000.00</td>\n",
       "                        <td id=\"T_f3f6c79d_2c24_11ec_8182_089798be9507row1_col2\" class=\"data row1 col2\" >Rp 190000.00</td>\n",
       "            </tr>\n",
       "            <tr>\n",
       "                                <td id=\"T_f3f6c79d_2c24_11ec_8182_089798be9507row2_col0\" class=\"data row2 col0\" >03/01/00</td>\n",
       "                        <td id=\"T_f3f6c79d_2c24_11ec_8182_089798be9507row2_col1\" class=\"data row2 col1\" >Rp 1700000.00</td>\n",
       "                        <td id=\"T_f3f6c79d_2c24_11ec_8182_089798be9507row2_col2\" class=\"data row2 col2\" >Rp 80000.00</td>\n",
       "            </tr>\n",
       "            <tr>\n",
       "                                <td id=\"T_f3f6c79d_2c24_11ec_8182_089798be9507row3_col0\" class=\"data row3 col0\" >04/01/00</td>\n",
       "                        <td id=\"T_f3f6c79d_2c24_11ec_8182_089798be9507row3_col1\" class=\"data row3 col1\" >Rp 500000.00</td>\n",
       "                        <td id=\"T_f3f6c79d_2c24_11ec_8182_089798be9507row3_col2\" class=\"data row3 col2\" >Rp 80000.00</td>\n",
       "            </tr>\n",
       "            <tr>\n",
       "                                <td id=\"T_f3f6c79d_2c24_11ec_8182_089798be9507row4_col0\" class=\"data row4 col0\" >05/01/00</td>\n",
       "                        <td id=\"T_f3f6c79d_2c24_11ec_8182_089798be9507row4_col1\" class=\"data row4 col1\" >Rp 800000.00</td>\n",
       "                        <td id=\"T_f3f6c79d_2c24_11ec_8182_089798be9507row4_col2\" class=\"data row4 col2\" >Rp 150000.00</td>\n",
       "            </tr>\n",
       "    </tbody></table>"
      ],
      "text/plain": [
       "<pandas.io.formats.style.Styler at 0x1c902a4c700>"
      ]
     },
     "execution_count": 21,
     "metadata": {},
     "output_type": "execute_result"
    }
   ],
   "source": [
    "laporan.hide_index()"
   ]
  },
  {
   "cell_type": "markdown",
   "metadata": {},
   "source": [
    "- untuk menyertakan judul"
   ]
  },
  {
   "cell_type": "code",
   "execution_count": 22,
   "metadata": {},
   "outputs": [
    {
     "data": {
      "text/html": [
       "<style  type=\"text/css\" >\n",
       "</style><table id=\"T_f42d9f79_2c24_11ec_93e5_089798be9507\" ><caption>Data Omset dan Operasional</caption><thead>    <tr>        <th class=\"col_heading level0 col0\" >tanggal</th>        <th class=\"col_heading level0 col1\" >omset</th>        <th class=\"col_heading level0 col2\" >operasional</th>    </tr></thead><tbody>\n",
       "                <tr>\n",
       "                                <td id=\"T_f42d9f79_2c24_11ec_93e5_089798be9507row0_col0\" class=\"data row0 col0\" >01/01/00</td>\n",
       "                        <td id=\"T_f42d9f79_2c24_11ec_93e5_089798be9507row0_col1\" class=\"data row0 col1\" >Rp 900000.00</td>\n",
       "                        <td id=\"T_f42d9f79_2c24_11ec_93e5_089798be9507row0_col2\" class=\"data row0 col2\" >Rp 20000.00</td>\n",
       "            </tr>\n",
       "            <tr>\n",
       "                                <td id=\"T_f42d9f79_2c24_11ec_93e5_089798be9507row1_col0\" class=\"data row1 col0\" >02/01/00</td>\n",
       "                        <td id=\"T_f42d9f79_2c24_11ec_93e5_089798be9507row1_col1\" class=\"data row1 col1\" >Rp 1800000.00</td>\n",
       "                        <td id=\"T_f42d9f79_2c24_11ec_93e5_089798be9507row1_col2\" class=\"data row1 col2\" >Rp 190000.00</td>\n",
       "            </tr>\n",
       "            <tr>\n",
       "                                <td id=\"T_f42d9f79_2c24_11ec_93e5_089798be9507row2_col0\" class=\"data row2 col0\" >03/01/00</td>\n",
       "                        <td id=\"T_f42d9f79_2c24_11ec_93e5_089798be9507row2_col1\" class=\"data row2 col1\" >Rp 1700000.00</td>\n",
       "                        <td id=\"T_f42d9f79_2c24_11ec_93e5_089798be9507row2_col2\" class=\"data row2 col2\" >Rp 80000.00</td>\n",
       "            </tr>\n",
       "            <tr>\n",
       "                                <td id=\"T_f42d9f79_2c24_11ec_93e5_089798be9507row3_col0\" class=\"data row3 col0\" >04/01/00</td>\n",
       "                        <td id=\"T_f42d9f79_2c24_11ec_93e5_089798be9507row3_col1\" class=\"data row3 col1\" >Rp 500000.00</td>\n",
       "                        <td id=\"T_f42d9f79_2c24_11ec_93e5_089798be9507row3_col2\" class=\"data row3 col2\" >Rp 80000.00</td>\n",
       "            </tr>\n",
       "            <tr>\n",
       "                                <td id=\"T_f42d9f79_2c24_11ec_93e5_089798be9507row4_col0\" class=\"data row4 col0\" >05/01/00</td>\n",
       "                        <td id=\"T_f42d9f79_2c24_11ec_93e5_089798be9507row4_col1\" class=\"data row4 col1\" >Rp 800000.00</td>\n",
       "                        <td id=\"T_f42d9f79_2c24_11ec_93e5_089798be9507row4_col2\" class=\"data row4 col2\" >Rp 150000.00</td>\n",
       "            </tr>\n",
       "    </tbody></table>"
      ],
      "text/plain": [
       "<pandas.io.formats.style.Styler at 0x1c902a4c700>"
      ]
     },
     "execution_count": 22,
     "metadata": {},
     "output_type": "execute_result"
    }
   ],
   "source": [
    "laporan.set_caption('Data Omset dan Operasional')"
   ]
  },
  {
   "cell_type": "markdown",
   "metadata": {},
   "source": [
    "- untuk memberikan highlight nilai maksimum dan minimum pada kolom omset dan operasional"
   ]
  },
  {
   "cell_type": "code",
   "execution_count": 23,
   "metadata": {},
   "outputs": [
    {
     "data": {
      "text/html": [
       "<style  type=\"text/css\" >\n",
       "#T_f51c24b4_2c24_11ec_b588_089798be9507row0_col2{\n",
       "            background-color:  lightblue;\n",
       "        }#T_f51c24b4_2c24_11ec_b588_089798be9507row1_col1{\n",
       "            background-color:  lightgreen;\n",
       "        }#T_f51c24b4_2c24_11ec_b588_089798be9507row1_col2{\n",
       "            background-color:  grey;\n",
       "        }#T_f51c24b4_2c24_11ec_b588_089798be9507row3_col1{\n",
       "            background-color:  pink;\n",
       "        }</style><table id=\"T_f51c24b4_2c24_11ec_b588_089798be9507\" ><caption>Data Omset dan Operasional</caption><thead>    <tr>        <th class=\"col_heading level0 col0\" >tanggal</th>        <th class=\"col_heading level0 col1\" >omset</th>        <th class=\"col_heading level0 col2\" >operasional</th>    </tr></thead><tbody>\n",
       "                <tr>\n",
       "                                <td id=\"T_f51c24b4_2c24_11ec_b588_089798be9507row0_col0\" class=\"data row0 col0\" >01/01/00</td>\n",
       "                        <td id=\"T_f51c24b4_2c24_11ec_b588_089798be9507row0_col1\" class=\"data row0 col1\" >Rp 900000.00</td>\n",
       "                        <td id=\"T_f51c24b4_2c24_11ec_b588_089798be9507row0_col2\" class=\"data row0 col2\" >Rp 20000.00</td>\n",
       "            </tr>\n",
       "            <tr>\n",
       "                                <td id=\"T_f51c24b4_2c24_11ec_b588_089798be9507row1_col0\" class=\"data row1 col0\" >02/01/00</td>\n",
       "                        <td id=\"T_f51c24b4_2c24_11ec_b588_089798be9507row1_col1\" class=\"data row1 col1\" >Rp 1800000.00</td>\n",
       "                        <td id=\"T_f51c24b4_2c24_11ec_b588_089798be9507row1_col2\" class=\"data row1 col2\" >Rp 190000.00</td>\n",
       "            </tr>\n",
       "            <tr>\n",
       "                                <td id=\"T_f51c24b4_2c24_11ec_b588_089798be9507row2_col0\" class=\"data row2 col0\" >03/01/00</td>\n",
       "                        <td id=\"T_f51c24b4_2c24_11ec_b588_089798be9507row2_col1\" class=\"data row2 col1\" >Rp 1700000.00</td>\n",
       "                        <td id=\"T_f51c24b4_2c24_11ec_b588_089798be9507row2_col2\" class=\"data row2 col2\" >Rp 80000.00</td>\n",
       "            </tr>\n",
       "            <tr>\n",
       "                                <td id=\"T_f51c24b4_2c24_11ec_b588_089798be9507row3_col0\" class=\"data row3 col0\" >04/01/00</td>\n",
       "                        <td id=\"T_f51c24b4_2c24_11ec_b588_089798be9507row3_col1\" class=\"data row3 col1\" >Rp 500000.00</td>\n",
       "                        <td id=\"T_f51c24b4_2c24_11ec_b588_089798be9507row3_col2\" class=\"data row3 col2\" >Rp 80000.00</td>\n",
       "            </tr>\n",
       "            <tr>\n",
       "                                <td id=\"T_f51c24b4_2c24_11ec_b588_089798be9507row4_col0\" class=\"data row4 col0\" >05/01/00</td>\n",
       "                        <td id=\"T_f51c24b4_2c24_11ec_b588_089798be9507row4_col1\" class=\"data row4 col1\" >Rp 800000.00</td>\n",
       "                        <td id=\"T_f51c24b4_2c24_11ec_b588_089798be9507row4_col2\" class=\"data row4 col2\" >Rp 150000.00</td>\n",
       "            </tr>\n",
       "    </tbody></table>"
      ],
      "text/plain": [
       "<pandas.io.formats.style.Styler at 0x1c902a4c700>"
      ]
     },
     "execution_count": 23,
     "metadata": {},
     "output_type": "execute_result"
    }
   ],
   "source": [
    "laporan.highlight_min('omset', color='pink')\n",
    "laporan.highlight_max('omset', color='lightgreen')\n",
    "\n",
    "laporan.highlight_min('operasional', color='lightblue')\n",
    "laporan.highlight_max('operasional', color='grey')"
   ]
  },
  {
   "cell_type": "code",
   "execution_count": null,
   "metadata": {},
   "outputs": [],
   "source": []
  }
 ],
 "metadata": {
  "kernelspec": {
   "display_name": "Python 3",
   "language": "python",
   "name": "python3"
  },
  "language_info": {
   "codemirror_mode": {
    "name": "ipython",
    "version": 3
   },
   "file_extension": ".py",
   "mimetype": "text/x-python",
   "name": "python",
   "nbconvert_exporter": "python",
   "pygments_lexer": "ipython3",
   "version": "3.8.5"
  }
 },
 "nbformat": 4,
 "nbformat_minor": 4
}
