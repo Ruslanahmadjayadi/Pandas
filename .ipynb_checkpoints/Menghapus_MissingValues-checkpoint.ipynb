{
 "cells": [
  {
   "cell_type": "markdown",
   "metadata": {},
   "source": [
    "# Menghapus Missing Values"
   ]
  },
  {
   "cell_type": "code",
   "execution_count": 1,
   "metadata": {},
   "outputs": [
    {
     "name": "stdout",
     "output_type": "stream",
     "text": [
      "1.1.3\n"
     ]
    }
   ],
   "source": [
    "import pandas as pd\n",
    "\n",
    "print(pd.__version__)"
   ]
  },
  {
   "cell_type": "markdown",
   "metadata": {},
   "source": [
    "## Membuat data"
   ]
  },
  {
   "cell_type": "code",
   "execution_count": 2,
   "metadata": {},
   "outputs": [
    {
     "name": "stderr",
     "output_type": "stream",
     "text": [
      "C:\\ProgramData\\Anaconda3\\lib\\site-packages\\pandas\\util\\__init__.py:12: FutureWarning: pandas.util.testing is deprecated. Use the functions in the public API at pandas.testing instead.\n",
      "  import pandas.util.testing\n"
     ]
    },
    {
     "data": {
      "text/html": [
       "<div>\n",
       "<style scoped>\n",
       "    .dataframe tbody tr th:only-of-type {\n",
       "        vertical-align: middle;\n",
       "    }\n",
       "\n",
       "    .dataframe tbody tr th {\n",
       "        vertical-align: top;\n",
       "    }\n",
       "\n",
       "    .dataframe thead th {\n",
       "        text-align: right;\n",
       "    }\n",
       "</style>\n",
       "<table border=\"1\" class=\"dataframe\">\n",
       "  <thead>\n",
       "    <tr style=\"text-align: right;\">\n",
       "      <th></th>\n",
       "      <th>index</th>\n",
       "      <th>A</th>\n",
       "      <th>B</th>\n",
       "      <th>C</th>\n",
       "      <th>D</th>\n",
       "    </tr>\n",
       "  </thead>\n",
       "  <tbody>\n",
       "    <tr>\n",
       "      <th>0</th>\n",
       "      <td>72mbOCkvJP</td>\n",
       "      <td>-0.202829</td>\n",
       "      <td>-1.567131</td>\n",
       "      <td>-0.072974</td>\n",
       "      <td>1.784102</td>\n",
       "    </tr>\n",
       "    <tr>\n",
       "      <th>1</th>\n",
       "      <td>SQeZ23Q1Wt</td>\n",
       "      <td>0.400985</td>\n",
       "      <td>0.111196</td>\n",
       "      <td>-0.218807</td>\n",
       "      <td>1.017636</td>\n",
       "    </tr>\n",
       "    <tr>\n",
       "      <th>2</th>\n",
       "      <td>qwvFwc2NGl</td>\n",
       "      <td>-0.380450</td>\n",
       "      <td>NaN</td>\n",
       "      <td>-1.109497</td>\n",
       "      <td>0.610329</td>\n",
       "    </tr>\n",
       "    <tr>\n",
       "      <th>3</th>\n",
       "      <td>MpWcsnQ8f5</td>\n",
       "      <td>0.268287</td>\n",
       "      <td>0.476947</td>\n",
       "      <td>-0.255159</td>\n",
       "      <td>0.281844</td>\n",
       "    </tr>\n",
       "    <tr>\n",
       "      <th>4</th>\n",
       "      <td>Ob56SoY8jE</td>\n",
       "      <td>-0.402260</td>\n",
       "      <td>-2.284275</td>\n",
       "      <td>-1.149172</td>\n",
       "      <td>-0.387313</td>\n",
       "    </tr>\n",
       "  </tbody>\n",
       "</table>\n",
       "</div>"
      ],
      "text/plain": [
       "        index         A         B         C         D\n",
       "0  72mbOCkvJP -0.202829 -1.567131 -0.072974  1.784102\n",
       "1  SQeZ23Q1Wt  0.400985  0.111196 -0.218807  1.017636\n",
       "2  qwvFwc2NGl -0.380450       NaN -1.109497  0.610329\n",
       "3  MpWcsnQ8f5  0.268287  0.476947 -0.255159  0.281844\n",
       "4  Ob56SoY8jE -0.402260 -2.284275 -1.149172 -0.387313"
      ]
     },
     "execution_count": 2,
     "metadata": {},
     "output_type": "execute_result"
    }
   ],
   "source": [
    "df = pd.util.testing.makeMissingDataframe().reset_index()\n",
    "df.head()\n",
    "# membuat data frame yang terdapat missing value dengan menggunakan\n",
    "#pd.util.testing.makeMissingDataframe() "
   ]
  },
  {
   "cell_type": "markdown",
   "metadata": {},
   "source": [
    "## Mengganti nama kolom index menjadi Z"
   ]
  },
  {
   "cell_type": "code",
   "execution_count": 3,
   "metadata": {},
   "outputs": [
    {
     "data": {
      "text/plain": [
       "<bound method NDFrame.head of              Z         A         B         C         D\n",
       "0   72mbOCkvJP -0.202829 -1.567131 -0.072974  1.784102\n",
       "1   SQeZ23Q1Wt  0.400985  0.111196 -0.218807  1.017636\n",
       "2   qwvFwc2NGl -0.380450       NaN -1.109497  0.610329\n",
       "3   MpWcsnQ8f5  0.268287  0.476947 -0.255159  0.281844\n",
       "4   Ob56SoY8jE -0.402260 -2.284275 -1.149172 -0.387313\n",
       "5   mTzNqRNSPh  1.618655 -0.163572  0.923588       NaN\n",
       "6   pUUHkojlj7  1.709571  0.457297  0.729061  0.948852\n",
       "7   YHxvoS4foZ -1.447457 -0.978737  1.034791 -0.345154\n",
       "8   FH7azGFhB8 -0.315063 -0.131406  0.196967 -0.310479\n",
       "9   nVJ2QYjFYP       NaN  1.242784  0.051500       NaN\n",
       "10  XW4nVBPxnS       NaN  0.972425  2.913177       NaN\n",
       "11  g1tPiPV1hB -0.727877  0.836610  1.217932 -0.193927\n",
       "12  ZIu97xEuN5       NaN  1.597522  0.389000 -0.976861\n",
       "13  1p0aEtW6v5 -0.323305  1.006640 -0.569122  0.748552\n",
       "14  yZxtONbVdu  0.735291       NaN -0.615998  0.497945\n",
       "15  FO29LQm3dK -1.536179 -0.137858 -1.130048 -0.749029\n",
       "16  bMe7wiY8BA -0.269025 -0.027812 -0.721825 -0.274393\n",
       "17  2gjYQYGBr6  0.654475 -1.119321  0.376664 -0.200854\n",
       "18  kTcCciuS31  1.100391 -2.203699  1.067545 -1.212453\n",
       "19  Jo6H0XnQ6R -0.328724  1.515452  1.741347 -0.406356\n",
       "20  Kz8eJMwFI2 -0.391958 -0.660331 -0.980226 -0.864132\n",
       "21  uRESewsuvD  0.997198  1.062853 -0.166966  0.335515\n",
       "22  DyZdy14C5j  0.792839 -0.685741       NaN -0.511286\n",
       "23  X1V3w1DSeL -0.437469  0.342153 -0.841485  2.464276\n",
       "24  cfp7MCSkue -0.397441 -0.040258 -2.750933  0.688216\n",
       "25  1eiIlqEl8C -0.323888  0.171296       NaN -0.363918\n",
       "26  yrLEVW4x11 -0.459900 -0.656653  0.905104  0.698061\n",
       "27  SNaINx7QOJ -0.610175       NaN       NaN  1.050154\n",
       "28  ZRBEED46EY -1.667893 -0.110940  0.256469 -0.465320\n",
       "29  6IKLPAo4tf  2.039658 -0.893057  2.017197 -1.685571>"
      ]
     },
     "execution_count": 3,
     "metadata": {},
     "output_type": "execute_result"
    }
   ],
   "source": [
    "df = df.rename(columns={'index':'Z'}) \n",
    "df.head"
   ]
  },
  {
   "cell_type": "markdown",
   "metadata": {},
   "source": [
    "## Mengcopy data dari data di atas"
   ]
  },
  {
   "cell_type": "code",
   "execution_count": 4,
   "metadata": {},
   "outputs": [],
   "source": [
    "df_backup = df.copy(deep=True) "
   ]
  },
  {
   "cell_type": "markdown",
   "metadata": {},
   "source": [
    "## Menghapus kolom yang terdapat missing value (Nan)"
   ]
  },
  {
   "cell_type": "code",
   "execution_count": 5,
   "metadata": {},
   "outputs": [
    {
     "data": {
      "text/html": [
       "<div>\n",
       "<style scoped>\n",
       "    .dataframe tbody tr th:only-of-type {\n",
       "        vertical-align: middle;\n",
       "    }\n",
       "\n",
       "    .dataframe tbody tr th {\n",
       "        vertical-align: top;\n",
       "    }\n",
       "\n",
       "    .dataframe thead th {\n",
       "        text-align: right;\n",
       "    }\n",
       "</style>\n",
       "<table border=\"1\" class=\"dataframe\">\n",
       "  <thead>\n",
       "    <tr style=\"text-align: right;\">\n",
       "      <th></th>\n",
       "      <th>Z</th>\n",
       "    </tr>\n",
       "  </thead>\n",
       "  <tbody>\n",
       "    <tr>\n",
       "      <th>0</th>\n",
       "      <td>72mbOCkvJP</td>\n",
       "    </tr>\n",
       "    <tr>\n",
       "      <th>1</th>\n",
       "      <td>SQeZ23Q1Wt</td>\n",
       "    </tr>\n",
       "    <tr>\n",
       "      <th>2</th>\n",
       "      <td>qwvFwc2NGl</td>\n",
       "    </tr>\n",
       "    <tr>\n",
       "      <th>3</th>\n",
       "      <td>MpWcsnQ8f5</td>\n",
       "    </tr>\n",
       "    <tr>\n",
       "      <th>4</th>\n",
       "      <td>Ob56SoY8jE</td>\n",
       "    </tr>\n",
       "  </tbody>\n",
       "</table>\n",
       "</div>"
      ],
      "text/plain": [
       "            Z\n",
       "0  72mbOCkvJP\n",
       "1  SQeZ23Q1Wt\n",
       "2  qwvFwc2NGl\n",
       "3  MpWcsnQ8f5\n",
       "4  Ob56SoY8jE"
      ]
     },
     "execution_count": 5,
     "metadata": {},
     "output_type": "execute_result"
    }
   ],
   "source": [
    "df = df.dropna(axis='columns')\n",
    "df.head()\n"
   ]
  },
  {
   "cell_type": "markdown",
   "metadata": {},
   "source": [
    "## Menghapus baris yang terdapat missing value"
   ]
  },
  {
   "cell_type": "code",
   "execution_count": 6,
   "metadata": {},
   "outputs": [
    {
     "data": {
      "text/plain": [
       "<bound method NDFrame.head of              Z         A         B         C         D\n",
       "0   72mbOCkvJP -0.202829 -1.567131 -0.072974  1.784102\n",
       "1   SQeZ23Q1Wt  0.400985  0.111196 -0.218807  1.017636\n",
       "3   MpWcsnQ8f5  0.268287  0.476947 -0.255159  0.281844\n",
       "4   Ob56SoY8jE -0.402260 -2.284275 -1.149172 -0.387313\n",
       "6   pUUHkojlj7  1.709571  0.457297  0.729061  0.948852\n",
       "7   YHxvoS4foZ -1.447457 -0.978737  1.034791 -0.345154\n",
       "8   FH7azGFhB8 -0.315063 -0.131406  0.196967 -0.310479\n",
       "11  g1tPiPV1hB -0.727877  0.836610  1.217932 -0.193927\n",
       "13  1p0aEtW6v5 -0.323305  1.006640 -0.569122  0.748552\n",
       "15  FO29LQm3dK -1.536179 -0.137858 -1.130048 -0.749029\n",
       "16  bMe7wiY8BA -0.269025 -0.027812 -0.721825 -0.274393\n",
       "17  2gjYQYGBr6  0.654475 -1.119321  0.376664 -0.200854\n",
       "18  kTcCciuS31  1.100391 -2.203699  1.067545 -1.212453\n",
       "19  Jo6H0XnQ6R -0.328724  1.515452  1.741347 -0.406356\n",
       "20  Kz8eJMwFI2 -0.391958 -0.660331 -0.980226 -0.864132\n",
       "21  uRESewsuvD  0.997198  1.062853 -0.166966  0.335515\n",
       "23  X1V3w1DSeL -0.437469  0.342153 -0.841485  2.464276\n",
       "24  cfp7MCSkue -0.397441 -0.040258 -2.750933  0.688216\n",
       "26  yrLEVW4x11 -0.459900 -0.656653  0.905104  0.698061\n",
       "28  ZRBEED46EY -1.667893 -0.110940  0.256469 -0.465320\n",
       "29  6IKLPAo4tf  2.039658 -0.893057  2.017197 -1.685571>"
      ]
     },
     "execution_count": 6,
     "metadata": {},
     "output_type": "execute_result"
    }
   ],
   "source": [
    "df = df_backup.copy(deep=True)\n",
    "df = df.dropna(axis='rows')\n",
    "df.head\n"
   ]
  },
  {
   "cell_type": "markdown",
   "metadata": {},
   "source": [
    "## Menghitung persentase Missing Values"
   ]
  },
  {
   "cell_type": "code",
   "execution_count": 7,
   "metadata": {},
   "outputs": [
    {
     "data": {
      "text/plain": [
       "Z    0.0\n",
       "A    0.1\n",
       "B    0.1\n",
       "C    0.1\n",
       "D    0.1\n",
       "dtype: float64"
      ]
     },
     "execution_count": 7,
     "metadata": {},
     "output_type": "execute_result"
    }
   ],
   "source": [
    "df = df_backup.copy(deep=True)\n",
    "df.isna().mean()"
   ]
  },
  {
   "cell_type": "markdown",
   "metadata": {},
   "source": [
    "## Menghapus kolom yang mengandung missing values berdasaran threshold"
   ]
  },
  {
   "cell_type": "code",
   "execution_count": 8,
   "metadata": {},
   "outputs": [
    {
     "data": {
      "text/html": [
       "<div>\n",
       "<style scoped>\n",
       "    .dataframe tbody tr th:only-of-type {\n",
       "        vertical-align: middle;\n",
       "    }\n",
       "\n",
       "    .dataframe tbody tr th {\n",
       "        vertical-align: top;\n",
       "    }\n",
       "\n",
       "    .dataframe thead th {\n",
       "        text-align: right;\n",
       "    }\n",
       "</style>\n",
       "<table border=\"1\" class=\"dataframe\">\n",
       "  <thead>\n",
       "    <tr style=\"text-align: right;\">\n",
       "      <th></th>\n",
       "      <th>Z</th>\n",
       "      <th>A</th>\n",
       "      <th>B</th>\n",
       "      <th>C</th>\n",
       "      <th>D</th>\n",
       "    </tr>\n",
       "  </thead>\n",
       "  <tbody>\n",
       "    <tr>\n",
       "      <th>0</th>\n",
       "      <td>72mbOCkvJP</td>\n",
       "      <td>-0.202829</td>\n",
       "      <td>-1.567131</td>\n",
       "      <td>-0.072974</td>\n",
       "      <td>1.784102</td>\n",
       "    </tr>\n",
       "    <tr>\n",
       "      <th>1</th>\n",
       "      <td>SQeZ23Q1Wt</td>\n",
       "      <td>0.400985</td>\n",
       "      <td>0.111196</td>\n",
       "      <td>-0.218807</td>\n",
       "      <td>1.017636</td>\n",
       "    </tr>\n",
       "    <tr>\n",
       "      <th>2</th>\n",
       "      <td>qwvFwc2NGl</td>\n",
       "      <td>-0.380450</td>\n",
       "      <td>NaN</td>\n",
       "      <td>-1.109497</td>\n",
       "      <td>0.610329</td>\n",
       "    </tr>\n",
       "    <tr>\n",
       "      <th>3</th>\n",
       "      <td>MpWcsnQ8f5</td>\n",
       "      <td>0.268287</td>\n",
       "      <td>0.476947</td>\n",
       "      <td>-0.255159</td>\n",
       "      <td>0.281844</td>\n",
       "    </tr>\n",
       "    <tr>\n",
       "      <th>4</th>\n",
       "      <td>Ob56SoY8jE</td>\n",
       "      <td>-0.402260</td>\n",
       "      <td>-2.284275</td>\n",
       "      <td>-1.149172</td>\n",
       "      <td>-0.387313</td>\n",
       "    </tr>\n",
       "  </tbody>\n",
       "</table>\n",
       "</div>"
      ],
      "text/plain": [
       "            Z         A         B         C         D\n",
       "0  72mbOCkvJP -0.202829 -1.567131 -0.072974  1.784102\n",
       "1  SQeZ23Q1Wt  0.400985  0.111196 -0.218807  1.017636\n",
       "2  qwvFwc2NGl -0.380450       NaN -1.109497  0.610329\n",
       "3  MpWcsnQ8f5  0.268287  0.476947 -0.255159  0.281844\n",
       "4  Ob56SoY8jE -0.402260 -2.284275 -1.149172 -0.387313"
      ]
     },
     "execution_count": 8,
     "metadata": {},
     "output_type": "execute_result"
    }
   ],
   "source": [
    "treshold = len(df) * 0.9\n",
    "df = df.dropna(thresh=treshold, axis='columns')\n",
    "df.head()\n"
   ]
  },
  {
   "cell_type": "code",
   "execution_count": null,
   "metadata": {},
   "outputs": [],
   "source": []
  }
 ],
 "metadata": {
  "kernelspec": {
   "display_name": "Python 3",
   "language": "python",
   "name": "python3"
  },
  "language_info": {
   "codemirror_mode": {
    "name": "ipython",
    "version": 3
   },
   "file_extension": ".py",
   "mimetype": "text/x-python",
   "name": "python",
   "nbconvert_exporter": "python",
   "pygments_lexer": "ipython3",
   "version": "3.8.5"
  }
 },
 "nbformat": 4,
 "nbformat_minor": 4
}
