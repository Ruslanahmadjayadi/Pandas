{
 "cells": [
  {
   "cell_type": "markdown",
   "metadata": {},
   "source": [
    "# UTC dan Konversi Zona Waktu (Time Zone)"
   ]
  },
  {
   "cell_type": "markdown",
   "metadata": {},
   "source": [
    "## Import Modules\n",
    "- Mengimport dan Mencetak versi Pandas yang digunakan"
   ]
  },
  {
   "cell_type": "code",
   "execution_count": 2,
   "metadata": {},
   "outputs": [
    {
     "name": "stdout",
     "output_type": "stream",
     "text": [
      "1.1.3\n"
     ]
    }
   ],
   "source": [
    "import pandas as pd\n",
    "\n",
    "print(pd.__version__)"
   ]
  },
  {
   "cell_type": "markdown",
   "metadata": {},
   "source": [
    "## Mempersiapkan Series\n",
    "- Nilai series berisi range dengan start interval 3600 (merepresentasikan jumlah detik dalam satu jam)\n",
    "- Parameter 1 dan 2 merepresentasikan Unix Epoch Time\n",
    "- Parameter 1 untuk Start date\n",
    "- Parameter 2 untuk End date\n",
    "- Unix Epoch Time adalah waktu yang dimulai dari 1 january 1970. dan angka yang direpresentasikan oleh Epoch time merepresentasikan jumlah detik sejak tanggal 1 january 1970\n",
    "- Epoch Time Converter untuk menkonversi Epoch time ke waktu hari ini.\n"
   ]
  },
  {
   "cell_type": "code",
   "execution_count": 7,
   "metadata": {},
   "outputs": [
    {
     "data": {
      "text/plain": [
       "0   2021-06-26 19:35:55\n",
       "1   2021-06-26 20:35:55\n",
       "2   2021-06-26 21:35:55\n",
       "3   2021-06-26 22:35:55\n",
       "4   2021-06-26 23:35:55\n",
       "dtype: datetime64[ns]"
      ]
     },
     "execution_count": 7,
     "metadata": {},
     "output_type": "execute_result"
    }
   ],
   "source": [
    "s = pd.Series(range(1624736155, 1634736155, 3600))\n",
    "s = pd.to_datetime(s, unit='s')\n",
    "s.head()"
   ]
  },
  {
   "cell_type": "markdown",
   "metadata": {},
   "source": [
    "## Pengaturan Zona Waktu (Time Zone)"
   ]
  },
  {
   "cell_type": "markdown",
   "metadata": {},
   "source": [
    "- Melakukan Standarisasi dengan UTC"
   ]
  },
  {
   "cell_type": "code",
   "execution_count": 8,
   "metadata": {},
   "outputs": [
    {
     "data": {
      "text/plain": [
       "0   2021-06-26 19:35:55+00:00\n",
       "1   2021-06-26 20:35:55+00:00\n",
       "2   2021-06-26 21:35:55+00:00\n",
       "3   2021-06-26 22:35:55+00:00\n",
       "4   2021-06-26 23:35:55+00:00\n",
       "dtype: datetime64[ns, UTC]"
      ]
     },
     "execution_count": 8,
     "metadata": {},
     "output_type": "execute_result"
    }
   ],
   "source": [
    "s = s.dt.tz_localize('UTC')\n",
    "s.head()"
   ]
  },
  {
   "cell_type": "markdown",
   "metadata": {},
   "source": [
    "- Melakukan konversi waktu ke Asia/Jakarta"
   ]
  },
  {
   "cell_type": "code",
   "execution_count": 9,
   "metadata": {},
   "outputs": [
    {
     "data": {
      "text/plain": [
       "0   2021-06-27 02:35:55+07:00\n",
       "1   2021-06-27 03:35:55+07:00\n",
       "2   2021-06-27 04:35:55+07:00\n",
       "3   2021-06-27 05:35:55+07:00\n",
       "4   2021-06-27 06:35:55+07:00\n",
       "dtype: datetime64[ns, Asia/Jakarta]"
      ]
     },
     "execution_count": 9,
     "metadata": {},
     "output_type": "execute_result"
    }
   ],
   "source": [
    "s = s.dt.tz_convert('Asia/Jakarta')\n",
    "s.head()"
   ]
  },
  {
   "cell_type": "markdown",
   "metadata": {},
   "source": [
    "- Melakukan konversi waktu ke Australia/Hobart"
   ]
  },
  {
   "cell_type": "code",
   "execution_count": 10,
   "metadata": {},
   "outputs": [
    {
     "data": {
      "text/plain": [
       "0   2021-06-27 05:35:55+10:00\n",
       "1   2021-06-27 06:35:55+10:00\n",
       "2   2021-06-27 07:35:55+10:00\n",
       "3   2021-06-27 08:35:55+10:00\n",
       "4   2021-06-27 09:35:55+10:00\n",
       "dtype: datetime64[ns, Australia/Hobart]"
      ]
     },
     "execution_count": 10,
     "metadata": {},
     "output_type": "execute_result"
    }
   ],
   "source": [
    "s = s.dt.tz_convert('Australia/Hobart')\n",
    "s.head()"
   ]
  }
 ],
 "metadata": {
  "kernelspec": {
   "display_name": "Python 3",
   "language": "python",
   "name": "python3"
  },
  "language_info": {
   "codemirror_mode": {
    "name": "ipython",
    "version": 3
   },
   "file_extension": ".py",
   "mimetype": "text/x-python",
   "name": "python",
   "nbconvert_exporter": "python",
   "pygments_lexer": "ipython3",
   "version": "3.8.5"
  }
 },
 "nbformat": 4,
 "nbformat_minor": 4
}
